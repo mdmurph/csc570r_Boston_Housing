{
 "cells": [
  {
   "cell_type": "markdown",
   "metadata": {},
   "source": [
    "## Boston Housing Assignment\n",
    "\n",
    "In this assignment you'll be using linear regression to estimate the cost of house in boston, using a well known dataset.\n",
    "\n",
    "Goals:\n",
    "+  Measure the performance of the model I created using $R^{2}$ and MSE\n",
    "> Learn how to use sklearn.metrics.r2_score and sklearn.metrics.mean_squared_error\n",
    "+  Implement a new model using L2 regularization\n",
    "> Use sklearn.linear_model.Ridge or sklearn.linear_model.Lasso \n",
    "+  Get the best model you can by optimizing the regularization parameter.   "
   ]
  },
  {
   "cell_type": "code",
   "execution_count": 993,
   "metadata": {
    "collapsed": false
   },
   "outputs": [],
   "source": [
    "from sklearn import datasets\n",
    "import pandas as pd\n",
    "from sklearn.preprocessing import StandardScaler\n",
    "from sklearn.cross_validation import train_test_split\n",
    "from sklearn.metrics import mean_squared_error\n",
    "from sklearn.metrics import r2_score\n",
    "from sklearn.linear_model import LinearRegression"
   ]
  },
  {
   "cell_type": "code",
   "execution_count": 994,
   "metadata": {
    "collapsed": false
   },
   "outputs": [
    {
     "name": "stdout",
     "output_type": "stream",
     "text": [
      "Boston House Prices dataset\n",
      "\n",
      "Notes\n",
      "------\n",
      "Data Set Characteristics:  \n",
      "\n",
      "    :Number of Instances: 506 \n",
      "\n",
      "    :Number of Attributes: 13 numeric/categorical predictive\n",
      "    \n",
      "    :Median Value (attribute 14) is usually the target\n",
      "\n",
      "    :Attribute Information (in order):\n",
      "        - CRIM     per capita crime rate by town\n",
      "        - ZN       proportion of residential land zoned for lots over 25,000 sq.ft.\n",
      "        - INDUS    proportion of non-retail business acres per town\n",
      "        - CHAS     Charles River dummy variable (= 1 if tract bounds river; 0 otherwise)\n",
      "        - NOX      nitric oxides concentration (parts per 10 million)\n",
      "        - RM       average number of rooms per dwelling\n",
      "        - AGE      proportion of owner-occupied units built prior to 1940\n",
      "        - DIS      weighted distances to five Boston employment centres\n",
      "        - RAD      index of accessibility to radial highways\n",
      "        - TAX      full-value property-tax rate per $10,000\n",
      "        - PTRATIO  pupil-teacher ratio by town\n",
      "        - B        1000(Bk - 0.63)^2 where Bk is the proportion of blacks by town\n",
      "        - LSTAT    % lower status of the population\n",
      "        - MEDV     Median value of owner-occupied homes in $1000's\n",
      "\n",
      "    :Missing Attribute Values: None\n",
      "\n",
      "    :Creator: Harrison, D. and Rubinfeld, D.L.\n",
      "\n",
      "This is a copy of UCI ML housing dataset.\n",
      "http://archive.ics.uci.edu/ml/datasets/Housing\n",
      "\n",
      "\n",
      "This dataset was taken from the StatLib library which is maintained at Carnegie Mellon University.\n",
      "\n",
      "The Boston house-price data of Harrison, D. and Rubinfeld, D.L. 'Hedonic\n",
      "prices and the demand for clean air', J. Environ. Economics & Management,\n",
      "vol.5, 81-102, 1978.   Used in Belsley, Kuh & Welsch, 'Regression diagnostics\n",
      "...', Wiley, 1980.   N.B. Various transformations are used in the table on\n",
      "pages 244-261 of the latter.\n",
      "\n",
      "The Boston house-price data has been used in many machine learning papers that address regression\n",
      "problems.   \n",
      "     \n",
      "**References**\n",
      "\n",
      "   - Belsley, Kuh & Welsch, 'Regression diagnostics: Identifying Influential Data and Sources of Collinearity', Wiley, 1980. 244-261.\n",
      "   - Quinlan,R. (1993). Combining Instance-Based and Model-Based Learning. In Proceedings on the Tenth International Conference of Machine Learning, 236-243, University of Massachusetts, Amherst. Morgan Kaufmann.\n",
      "   - many more! (see http://archive.ics.uci.edu/ml/datasets/Housing)\n",
      "\n"
     ]
    }
   ],
   "source": [
    "bean = datasets.load_boston()\n",
    "print bean.DESCR"
   ]
  },
  {
   "cell_type": "code",
   "execution_count": 995,
   "metadata": {
    "collapsed": false
   },
   "outputs": [],
   "source": [
    "def load_boston():\n",
    "    scaler = StandardScaler()\n",
    "    boston = datasets.load_boston()\n",
    "    X=boston.data\n",
    "    y=boston.target\n",
    "    X = scaler.fit_transform(X)\n",
    "    return train_test_split(X,y)\n",
    "    "
   ]
  },
  {
   "cell_type": "code",
   "execution_count": 996,
   "metadata": {
    "collapsed": false
   },
   "outputs": [],
   "source": [
    "X_train, X_test, y_train, y_test = load_boston()"
   ]
  },
  {
   "cell_type": "code",
   "execution_count": 997,
   "metadata": {
    "collapsed": false
   },
   "outputs": [
    {
     "data": {
      "text/plain": [
       "(379L, 13L)"
      ]
     },
     "execution_count": 997,
     "metadata": {},
     "output_type": "execute_result"
    }
   ],
   "source": [
    "X_train.shape"
   ]
  },
  {
   "cell_type": "markdown",
   "metadata": {},
   "source": [
    "### Fitting a Linear Regression\n",
    "\n",
    "It's as easy as instantiating a new regression object (line 1) and giving your regression object your training data\n",
    "(line 2) by calling .fit(independent variables, dependent variable)\n",
    "\n"
   ]
  },
  {
   "cell_type": "code",
   "execution_count": 998,
   "metadata": {
    "collapsed": false
   },
   "outputs": [
    {
     "data": {
      "text/plain": [
       "LinearRegression(copy_X=True, fit_intercept=True, n_jobs=1, normalize=False)"
      ]
     },
     "execution_count": 998,
     "metadata": {},
     "output_type": "execute_result"
    }
   ],
   "source": [
    "\n",
    "clf = LinearRegression()\n",
    "clf.fit(X_train, y_train)"
   ]
  },
  {
   "cell_type": "markdown",
   "metadata": {},
   "source": [
    "### Making a Prediction\n",
    "X_test is our holdout set of data.  We know the answer (y_test) but the computer does not.   \n",
    "\n",
    "Using the command below, I create a tuple for each observation, where I'm combining the real value (y_test) with\n",
    "the value our regressor predicts (clf.predict(X_test))\n",
    "\n",
    "Use a similiar format to get your r2 and mse metrics working.  Using the [scikit learn api](http://scikit-learn.org/stable/modules/model_evaluation.html) if you need help!"
   ]
  },
  {
   "cell_type": "code",
   "execution_count": 999,
   "metadata": {
    "collapsed": false
   },
   "outputs": [
    {
     "data": {
      "text/plain": [
       "[(16.800000000000001, 20.919601109623148),\n",
       " (22.199999999999999, 24.360086400992916),\n",
       " (20.100000000000001, 15.260371116612678),\n",
       " (30.5, 30.369279756503339),\n",
       " (7.5, 13.353111124249729),\n",
       " (5.0, 6.648661165551907),\n",
       " (23.800000000000001, 25.330804633209585),\n",
       " (20.5, 20.132686530746504),\n",
       " (24.399999999999999, 24.131553755458754),\n",
       " (21.699999999999999, 22.933113223950176),\n",
       " (21.699999999999999, 20.518679797594025),\n",
       " (13.1, 14.495903358523931),\n",
       " (18.5, 19.825318615499093),\n",
       " (20.5, 24.310227211449455),\n",
       " (34.600000000000001, 34.776851045343648),\n",
       " (19.899999999999999, 18.216069150986911),\n",
       " (15.4, 17.845888343441608),\n",
       " (17.5, 16.900583106762983),\n",
       " (24.800000000000001, 26.287120751860233),\n",
       " (28.100000000000001, 25.048933440380946),\n",
       " (20.300000000000001, 19.572863933751218),\n",
       " (13.800000000000001, 6.6850762266073946),\n",
       " (14.1, 18.937563503528658),\n",
       " (23.399999999999999, 23.890521952730168),\n",
       " (12.800000000000001, 13.267175880457344),\n",
       " (27.899999999999999, 32.553778438494476),\n",
       " (23.899999999999999, 27.928689423556918),\n",
       " (33.799999999999997, 34.570952920281528),\n",
       " (22.0, 25.79975784056807),\n",
       " (28.600000000000001, 28.084358606691602),\n",
       " (35.399999999999999, 34.378626030834205),\n",
       " (22.899999999999999, 20.337518086867693),\n",
       " (13.1, 15.640271270717061),\n",
       " (13.800000000000001, 11.367678953833458),\n",
       " (21.699999999999999, 21.763967977920181),\n",
       " (8.5, 7.5079230043390801),\n",
       " (13.1, 13.893490230358605),\n",
       " (11.699999999999999, 15.757224492114904),\n",
       " (24.800000000000001, 25.069537650771451),\n",
       " (17.399999999999999, 15.60229279800434),\n",
       " (25.0, 28.532112701592212),\n",
       " (19.199999999999999, 23.843651505205163),\n",
       " (21.399999999999999, 20.36663960335293),\n",
       " (32.5, 31.349964091065399),\n",
       " (16.199999999999999, 20.80754772416865),\n",
       " (21.800000000000001, 20.781559889813121),\n",
       " (17.800000000000001, 16.013747513056881),\n",
       " (34.899999999999999, 30.317021572868228),\n",
       " (45.399999999999999, 38.503922334314012),\n",
       " (31.100000000000001, 32.267383754730311),\n",
       " (22.699999999999999, 24.886374992334893),\n",
       " (29.800000000000001, 32.774664253858695),\n",
       " (20.600000000000001, 22.352617301846784),\n",
       " (24.600000000000001, 29.407371638675549),\n",
       " (13.800000000000001, 20.371646661934712),\n",
       " (18.399999999999999, 15.565116374848467),\n",
       " (17.199999999999999, 17.362402545419044),\n",
       " (16.5, 11.541940985555751),\n",
       " (7.2000000000000002, 8.3621691197709573),\n",
       " (31.199999999999999, 28.539322365013795),\n",
       " (12.6, 18.095612232158857),\n",
       " (38.700000000000003, 34.977099063927028),\n",
       " (19.199999999999999, 19.537290454622653),\n",
       " (19.600000000000001, 18.981294053941546),\n",
       " (16.300000000000001, 12.888235594762701),\n",
       " (37.200000000000003, 32.847698630686196),\n",
       " (22.800000000000001, 28.959437749502868),\n",
       " (20.699999999999999, 26.544166060531122),\n",
       " (32.0, 33.690953514404796),\n",
       " (11.5, 14.741728429123256),\n",
       " (36.5, 35.702610260569912),\n",
       " (13.800000000000001, 17.205871271997914),\n",
       " (22.0, 21.265569710278886),\n",
       " (18.300000000000001, 19.18657638280936),\n",
       " (22.0, 21.921332297211109),\n",
       " (24.399999999999999, 23.551314784555323),\n",
       " (17.100000000000001, 18.831584997947097),\n",
       " (19.399999999999999, 26.514308464519754),\n",
       " (19.800000000000001, 18.432434657984917),\n",
       " (43.799999999999997, 34.302185863501606),\n",
       " (18.399999999999999, 18.771654155350884),\n",
       " (33.399999999999999, 28.2648417177017),\n",
       " (11.800000000000001, 8.5009227397105569),\n",
       " (24.5, 27.954132920668336),\n",
       " (20.600000000000001, 27.461841517709679),\n",
       " (16.100000000000001, 19.225617263823086),\n",
       " (22.199999999999999, 26.174289803565866),\n",
       " (19.5, 17.357535927106479),\n",
       " (27.899999999999999, 20.817032569202556),\n",
       " (16.199999999999999, 15.064224467471517),\n",
       " (30.800000000000001, 31.967122252703554),\n",
       " (26.199999999999999, 23.826470434557486),\n",
       " (39.799999999999997, 34.202591272179241),\n",
       " (19.699999999999999, 21.517643713560705),\n",
       " (19.100000000000001, 17.262463048722164),\n",
       " (24.699999999999999, 25.356504362188023),\n",
       " (50.0, 40.969832673843086),\n",
       " (8.3000000000000007, 13.483366911254736),\n",
       " (19.800000000000001, 21.392848222845402),\n",
       " (14.5, 18.741130030298329),\n",
       " (19.600000000000001, 18.27185734319135),\n",
       " (19.899999999999999, 18.949914668732468),\n",
       " (27.100000000000001, 27.144739111155644),\n",
       " (29.899999999999999, 31.37996842069256),\n",
       " (22.600000000000001, 27.158689050411127),\n",
       " (24.0, 25.60303287958385),\n",
       " (44.0, 37.85624213960071),\n",
       " (22.300000000000001, 27.777221864620874),\n",
       " (20.800000000000001, 18.93468728568994),\n",
       " (13.0, 17.201405027994372),\n",
       " (17.100000000000001, 20.255660372805451),\n",
       " (20.100000000000001, 20.587213330308025),\n",
       " (34.899999999999999, 34.58356845131555),\n",
       " (18.800000000000001, 20.913188440978679),\n",
       " (19.100000000000001, 17.335159550513332),\n",
       " (10.9, 14.549772297578627),\n",
       " (50.0, 42.271225961437338),\n",
       " (22.0, 27.598053072235729),\n",
       " (14.800000000000001, 14.713955677306329),\n",
       " (29.0, 32.137873984813972),\n",
       " (21.699999999999999, 24.309864721220475),\n",
       " (21.5, 20.263544061134226),\n",
       " (22.199999999999999, 19.227314601114752),\n",
       " (21.5, 25.450444768072206),\n",
       " (16.699999999999999, 19.684687632567702),\n",
       " (30.100000000000001, 29.92752259450366),\n",
       " (21.0, 20.535661651867919)]"
      ]
     },
     "execution_count": 999,
     "metadata": {},
     "output_type": "execute_result"
    }
   ],
   "source": [
    "y_pred = clf.predict(X_test)\n",
    "zip (y_test, y_pred)"
   ]
  },
  {
   "cell_type": "markdown",
   "metadata": {},
   "source": [
    "Testing Accuracy of Linear Model"
   ]
  },
  {
   "cell_type": "code",
   "execution_count": 1000,
   "metadata": {
    "collapsed": false
   },
   "outputs": [
    {
     "data": {
      "text/plain": [
       "11.937288667976835"
      ]
     },
     "execution_count": 1000,
     "metadata": {},
     "output_type": "execute_result"
    }
   ],
   "source": [
    "from sklearn.metrics import mean_squared_error\n",
    "mean_squared_error(y_test, y_pred)"
   ]
  },
  {
   "cell_type": "code",
   "execution_count": 1001,
   "metadata": {
    "collapsed": false
   },
   "outputs": [
    {
     "data": {
      "text/plain": [
       "0.83318224193402157"
      ]
     },
     "execution_count": 1001,
     "metadata": {},
     "output_type": "execute_result"
    }
   ],
   "source": [
    "from sklearn.metrics import r2_score\n",
    "r2_score(y_test, y_pred)"
   ]
  },
  {
   "cell_type": "markdown",
   "metadata": {},
   "source": [
    "Implement LASSO regression model"
   ]
  },
  {
   "cell_type": "code",
   "execution_count": 1002,
   "metadata": {
    "collapsed": false
   },
   "outputs": [
    {
     "data": {
      "text/plain": [
       "11.372064519305649"
      ]
     },
     "execution_count": 1002,
     "metadata": {},
     "output_type": "execute_result"
    }
   ],
   "source": [
    "from sklearn import linear_model\n",
    "clf = linear_model.Lasso(alpha = 0.092)\n",
    "clf.fit(X_train, y_train)\n",
    "\n",
    "y_pred = clf.predict(X_test)\n",
    "zip (y_test, y_pred)\n",
    "\n",
    "mean_squared_error(y_test, y_pred)\n"
   ]
  },
  {
   "cell_type": "code",
   "execution_count": 1003,
   "metadata": {
    "collapsed": false
   },
   "outputs": [
    {
     "data": {
      "text/plain": [
       "0.8410809723667555"
      ]
     },
     "execution_count": 1003,
     "metadata": {},
     "output_type": "execute_result"
    }
   ],
   "source": [
    "r2_score(y_test, y_pred)"
   ]
  },
  {
   "cell_type": "markdown",
   "metadata": {},
   "source": [
    "Implement Ridge Regression"
   ]
  },
  {
   "cell_type": "code",
   "execution_count": 1004,
   "metadata": {
    "collapsed": false
   },
   "outputs": [
    {
     "data": {
      "text/plain": [
       "11.873534701895254"
      ]
     },
     "execution_count": 1004,
     "metadata": {},
     "output_type": "execute_result"
    }
   ],
   "source": [
    "from sklearn.linear_model import Ridge\n",
    "import numpy as np\n",
    "clf = Ridge(alpha=.9965)\n",
    "clf.fit(X_train, y_train)\n",
    "\n",
    "y_pred = clf.predict(X_test)\n",
    "zip (y_test, y_pred)\n",
    "\n",
    "mean_squared_error(y_test, y_pred)"
   ]
  },
  {
   "cell_type": "code",
   "execution_count": 1005,
   "metadata": {
    "collapsed": false
   },
   "outputs": [
    {
     "data": {
      "text/plain": [
       "0.83407317236096801"
      ]
     },
     "execution_count": 1005,
     "metadata": {},
     "output_type": "execute_result"
    }
   ],
   "source": [
    "r2_score(y_test, y_pred)"
   ]
  }
 ],
 "metadata": {
  "anaconda-cloud": {},
  "kernelspec": {
   "display_name": "Python [Root]",
   "language": "python",
   "name": "Python [Root]"
  },
  "language_info": {
   "codemirror_mode": {
    "name": "ipython",
    "version": 2
   },
   "file_extension": ".py",
   "mimetype": "text/x-python",
   "name": "python",
   "nbconvert_exporter": "python",
   "pygments_lexer": "ipython2",
   "version": "2.7.12"
  }
 },
 "nbformat": 4,
 "nbformat_minor": 0
}
