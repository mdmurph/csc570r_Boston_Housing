{
 "cells": [
  {
   "cell_type": "markdown",
   "metadata": {},
   "source": [
    "## Boston Housing Assignment\n",
    "\n",
    "In this assignment you'll be using linear regression to estimate the cost of house in boston, using a well known dataset.\n",
    "\n",
    "Goals:\n",
    "+  Measure the performance of the model I created using $R^{2}$ and MSE\n",
    "> Learn how to use sklearn.metrics.r2_score and sklearn.metrics.mean_squared_error\n",
    "+  Implement a new model using L2 regularization\n",
    "> Use sklearn.linear_model.Ridge or sklearn.linear_model.Lasso \n",
    "+  Get the best model you can by optimizing the regularization parameter.   "
   ]
  },
  {
   "cell_type": "code",
   "execution_count": 524,
   "metadata": {
    "collapsed": false
   },
   "outputs": [],
   "source": [
    "from sklearn import datasets\n",
    "import pandas as pd\n",
    "from sklearn.preprocessing import StandardScaler\n",
    "from sklearn.cross_validation import train_test_split\n",
    "from sklearn.metrics import mean_squared_error\n",
    "from sklearn.metrics import r2_score\n",
    "from sklearn.linear_model import LinearRegression"
   ]
  },
  {
   "cell_type": "code",
   "execution_count": 525,
   "metadata": {
    "collapsed": false
   },
   "outputs": [
    {
     "name": "stdout",
     "output_type": "stream",
     "text": [
      "Boston House Prices dataset\n",
      "\n",
      "Notes\n",
      "------\n",
      "Data Set Characteristics:  \n",
      "\n",
      "    :Number of Instances: 506 \n",
      "\n",
      "    :Number of Attributes: 13 numeric/categorical predictive\n",
      "    \n",
      "    :Median Value (attribute 14) is usually the target\n",
      "\n",
      "    :Attribute Information (in order):\n",
      "        - CRIM     per capita crime rate by town\n",
      "        - ZN       proportion of residential land zoned for lots over 25,000 sq.ft.\n",
      "        - INDUS    proportion of non-retail business acres per town\n",
      "        - CHAS     Charles River dummy variable (= 1 if tract bounds river; 0 otherwise)\n",
      "        - NOX      nitric oxides concentration (parts per 10 million)\n",
      "        - RM       average number of rooms per dwelling\n",
      "        - AGE      proportion of owner-occupied units built prior to 1940\n",
      "        - DIS      weighted distances to five Boston employment centres\n",
      "        - RAD      index of accessibility to radial highways\n",
      "        - TAX      full-value property-tax rate per $10,000\n",
      "        - PTRATIO  pupil-teacher ratio by town\n",
      "        - B        1000(Bk - 0.63)^2 where Bk is the proportion of blacks by town\n",
      "        - LSTAT    % lower status of the population\n",
      "        - MEDV     Median value of owner-occupied homes in $1000's\n",
      "\n",
      "    :Missing Attribute Values: None\n",
      "\n",
      "    :Creator: Harrison, D. and Rubinfeld, D.L.\n",
      "\n",
      "This is a copy of UCI ML housing dataset.\n",
      "http://archive.ics.uci.edu/ml/datasets/Housing\n",
      "\n",
      "\n",
      "This dataset was taken from the StatLib library which is maintained at Carnegie Mellon University.\n",
      "\n",
      "The Boston house-price data of Harrison, D. and Rubinfeld, D.L. 'Hedonic\n",
      "prices and the demand for clean air', J. Environ. Economics & Management,\n",
      "vol.5, 81-102, 1978.   Used in Belsley, Kuh & Welsch, 'Regression diagnostics\n",
      "...', Wiley, 1980.   N.B. Various transformations are used in the table on\n",
      "pages 244-261 of the latter.\n",
      "\n",
      "The Boston house-price data has been used in many machine learning papers that address regression\n",
      "problems.   \n",
      "     \n",
      "**References**\n",
      "\n",
      "   - Belsley, Kuh & Welsch, 'Regression diagnostics: Identifying Influential Data and Sources of Collinearity', Wiley, 1980. 244-261.\n",
      "   - Quinlan,R. (1993). Combining Instance-Based and Model-Based Learning. In Proceedings on the Tenth International Conference of Machine Learning, 236-243, University of Massachusetts, Amherst. Morgan Kaufmann.\n",
      "   - many more! (see http://archive.ics.uci.edu/ml/datasets/Housing)\n",
      "\n"
     ]
    }
   ],
   "source": [
    "bean = datasets.load_boston()\n",
    "print bean.DESCR"
   ]
  },
  {
   "cell_type": "code",
   "execution_count": 526,
   "metadata": {
    "collapsed": false
   },
   "outputs": [],
   "source": [
    "def load_boston():\n",
    "    scaler = StandardScaler()\n",
    "    boston = datasets.load_boston()\n",
    "    X=boston.data\n",
    "    y=boston.target\n",
    "    X = scaler.fit_transform(X)\n",
    "    return train_test_split(X,y)\n",
    "    "
   ]
  },
  {
   "cell_type": "code",
   "execution_count": 527,
   "metadata": {
    "collapsed": false
   },
   "outputs": [],
   "source": [
    "X_train, X_test, y_train, y_test = load_boston()"
   ]
  },
  {
   "cell_type": "code",
   "execution_count": 528,
   "metadata": {
    "collapsed": false
   },
   "outputs": [
    {
     "data": {
      "text/plain": [
       "(379L, 13L)"
      ]
     },
     "execution_count": 528,
     "metadata": {},
     "output_type": "execute_result"
    }
   ],
   "source": [
    "X_train.shape"
   ]
  },
  {
   "cell_type": "markdown",
   "metadata": {},
   "source": [
    "### Fitting a Linear Regression\n",
    "\n",
    "It's as easy as instantiating a new regression object (line 1) and giving your regression object your training data\n",
    "(line 2) by calling .fit(independent variables, dependent variable)\n",
    "\n"
   ]
  },
  {
   "cell_type": "code",
   "execution_count": 529,
   "metadata": {
    "collapsed": false
   },
   "outputs": [
    {
     "data": {
      "text/plain": [
       "LinearRegression(copy_X=True, fit_intercept=True, n_jobs=1, normalize=False)"
      ]
     },
     "execution_count": 529,
     "metadata": {},
     "output_type": "execute_result"
    }
   ],
   "source": [
    "\n",
    "clf = LinearRegression()\n",
    "clf.fit(X_train, y_train)"
   ]
  },
  {
   "cell_type": "markdown",
   "metadata": {},
   "source": [
    "### Making a Prediction\n",
    "X_test is our holdout set of data.  We know the answer (y_test) but the computer does not.   \n",
    "\n",
    "Using the command below, I create a tuple for each observation, where I'm combining the real value (y_test) with\n",
    "the value our regressor predicts (clf.predict(X_test))\n",
    "\n",
    "Use a similiar format to get your r2 and mse metrics working.  Using the [scikit learn api](http://scikit-learn.org/stable/modules/model_evaluation.html) if you need help!"
   ]
  },
  {
   "cell_type": "code",
   "execution_count": 530,
   "metadata": {
    "collapsed": false
   },
   "outputs": [
    {
     "data": {
      "text/plain": [
       "[(50.0, 42.984267242422597),\n",
       " (23.199999999999999, 16.679181699169),\n",
       " (28.600000000000001, 29.496092384816201),\n",
       " (18.600000000000001, 19.740977487583393),\n",
       " (29.800000000000001, 25.346931434226448),\n",
       " (17.5, 17.512364053156126),\n",
       " (24.5, 27.554283831503234),\n",
       " (36.5, 35.797500531633624),\n",
       " (22.100000000000001, 26.222789816059951),\n",
       " (20.5, 24.168469376208837),\n",
       " (31.600000000000001, 32.838694063153568),\n",
       " (28.100000000000001, 25.288843796600794),\n",
       " (13.4, 15.2272116103955),\n",
       " (7.2000000000000002, 10.318153562220266),\n",
       " (11.699999999999999, 16.015495761629268),\n",
       " (13.300000000000001, 19.906226592310613),\n",
       " (19.100000000000001, 24.351927859942261),\n",
       " (36.200000000000003, 28.672969722036132),\n",
       " (19.600000000000001, 18.458150974880638),\n",
       " (21.600000000000001, 25.231677796343543),\n",
       " (50.0, 33.686275052498516),\n",
       " (22.199999999999999, 22.53556413340144),\n",
       " (34.899999999999999, 29.797136481987714),\n",
       " (17.5, 17.32754457330099),\n",
       " (16.5, 22.887925770618384),\n",
       " (16.100000000000001, 21.247812752564585),\n",
       " (18.800000000000001, 20.066547455110999),\n",
       " (22.199999999999999, 19.515512586611596),\n",
       " (12.1, 17.785476506221393),\n",
       " (24.0, 24.770944570055573),\n",
       " (20.100000000000001, 15.909440710934883),\n",
       " (22.300000000000001, 27.091716385006368),\n",
       " (8.5, 15.279429759000541),\n",
       " (9.5, 13.409622315864427),\n",
       " (22.199999999999999, 25.24848839007889),\n",
       " (20.0, 16.677109326341856),\n",
       " (22.699999999999999, 21.822361987575697),\n",
       " (14.5, 18.008709732302901),\n",
       " (29.100000000000001, 31.307624225608492),\n",
       " (25.0, 22.170828024538963),\n",
       " (43.100000000000001, 37.416350811818319),\n",
       " (23.100000000000001, 8.4713336537992081),\n",
       " (15.6, 12.727696791970033),\n",
       " (12.0, 10.488735391937102),\n",
       " (11.800000000000001, 8.9483338329430602),\n",
       " (23.199999999999999, 21.868079630853572),\n",
       " (16.800000000000001, 19.498885517624),\n",
       " (16.699999999999999, 19.201711640148662),\n",
       " (32.0, 32.653471917758672),\n",
       " (22.5, 28.936220831813849),\n",
       " (32.899999999999999, 30.496146154064313),\n",
       " (18.100000000000001, 17.37282430985492),\n",
       " (14.0, 13.690071312823322),\n",
       " (33.299999999999997, 36.473163447594636),\n",
       " (21.199999999999999, 20.646425242842849),\n",
       " (23.899999999999999, 26.40649783298224),\n",
       " (34.600000000000001, 35.133684289665538),\n",
       " (26.399999999999999, 28.777687990935959),\n",
       " (50.0, 21.231572942182538),\n",
       " (12.5, 18.714685450815406),\n",
       " (22.800000000000001, 24.527458331305233),\n",
       " (13.800000000000001, -0.91034257321506473),\n",
       " (21.600000000000001, 25.187344394872692),\n",
       " (15.6, 21.679157194658821),\n",
       " (21.699999999999999, 24.919863449273429),\n",
       " (19.100000000000001, 16.388378148412144),\n",
       " (9.5999999999999996, 15.036090728279415),\n",
       " (24.600000000000001, 28.542208799715631),\n",
       " (17.800000000000001, 16.321427026075902),\n",
       " (22.0, 21.001966242420131),\n",
       " (19.0, 20.949891430865648),\n",
       " (34.899999999999999, 34.269442255904174),\n",
       " (37.600000000000001, 38.038368731989593),\n",
       " (26.199999999999999, 24.796485309847508),\n",
       " (22.300000000000001, 27.057543073148853),\n",
       " (16.0, 18.29963010584353),\n",
       " (29.399999999999999, 30.345754419013822),\n",
       " (19.5, 17.398685859932844),\n",
       " (23.699999999999999, 11.252011302006762),\n",
       " (32.0, 33.217611679913155),\n",
       " (18.199999999999999, 14.044912503102177),\n",
       " (29.600000000000001, 24.219468825374943),\n",
       " (22.800000000000001, 28.45442328662147),\n",
       " (18.600000000000001, 17.331858817117265),\n",
       " (10.4, 15.211410090720154),\n",
       " (14.9, 17.41113082622125),\n",
       " (17.100000000000001, 19.941579435547986),\n",
       " (23.399999999999999, 24.246419118194204),\n",
       " (21.699999999999999, 21.300993099565392),\n",
       " (20.600000000000001, 20.410066083974048),\n",
       " (23.100000000000001, 24.25691315461313),\n",
       " (17.800000000000001, 22.948875243673555),\n",
       " (19.699999999999999, 21.569459942958559),\n",
       " (22.399999999999999, 22.578551749302669),\n",
       " (33.799999999999997, 34.914420355165234),\n",
       " (13.4, 13.265220632567621),\n",
       " (42.299999999999997, 37.199483627852132),\n",
       " (13.800000000000001, 13.603038422580585),\n",
       " (19.300000000000001, 19.510598373608381),\n",
       " (20.399999999999999, 19.784443029120496),\n",
       " (7.0, 8.1114196878773868),\n",
       " (17.5, 16.686589653621162),\n",
       " (14.9, 16.091279676788592),\n",
       " (26.5, 25.163435932261407),\n",
       " (27.0, 32.751048411695905),\n",
       " (38.700000000000003, 36.314369865162831),\n",
       " (7.0, -4.4606138855169633),\n",
       " (20.199999999999999, 22.040543435942148),\n",
       " (20.399999999999999, 19.244297369272694),\n",
       " (18.399999999999999, 18.129174912473943),\n",
       " (23.699999999999999, 28.475933337402921),\n",
       " (36.399999999999999, 33.273617889950479),\n",
       " (39.799999999999997, 34.956635260621461),\n",
       " (13.6, 13.800856587362027),\n",
       " (27.5, 32.143730277933479),\n",
       " (24.800000000000001, 25.344657320421199),\n",
       " (23.100000000000001, 20.204694840327409),\n",
       " (50.0, 23.601361952098181),\n",
       " (26.399999999999999, 21.605596879443784),\n",
       " (19.899999999999999, 18.521956104200463),\n",
       " (16.199999999999999, 14.70194288041766),\n",
       " (28.0, 28.233544134123051),\n",
       " (43.799999999999997, 35.564488682667573),\n",
       " (33.100000000000001, 34.672447372771146),\n",
       " (19.100000000000001, 16.256573604524554),\n",
       " (16.5, 12.292026012199734),\n",
       " (19.699999999999999, 13.301963072669746)]"
      ]
     },
     "execution_count": 530,
     "metadata": {},
     "output_type": "execute_result"
    }
   ],
   "source": [
    "y_pred = clf.predict(X_test)\n",
    "zip (y_test, y_pred)"
   ]
  },
  {
   "cell_type": "code",
   "execution_count": 531,
   "metadata": {
    "collapsed": false
   },
   "outputs": [
    {
     "data": {
      "text/plain": [
       "31.025636554713657"
      ]
     },
     "execution_count": 531,
     "metadata": {},
     "output_type": "execute_result"
    }
   ],
   "source": [
    "from sklearn.metrics import mean_squared_error\n",
    "mean_squared_error(y_test, y_pred)"
   ]
  },
  {
   "cell_type": "code",
   "execution_count": 532,
   "metadata": {
    "collapsed": false
   },
   "outputs": [
    {
     "data": {
      "text/plain": [
       "0.63035073019791865"
      ]
     },
     "execution_count": 532,
     "metadata": {},
     "output_type": "execute_result"
    }
   ],
   "source": [
    "from sklearn.metrics import r2_score\n",
    "r2_score(y_test, y_pred)"
   ]
  },
  {
   "cell_type": "code",
   "execution_count": 533,
   "metadata": {
    "collapsed": false
   },
   "outputs": [],
   "source": [
    "#r2_score(y_test, y_pred, multioutput='variance_weighted')\n"
   ]
  },
  {
   "cell_type": "code",
   "execution_count": 534,
   "metadata": {
    "collapsed": false
   },
   "outputs": [],
   "source": [
    "#r2_score(y_test, y_pred, multioutput='uniform_average')\n"
   ]
  },
  {
   "cell_type": "code",
   "execution_count": 535,
   "metadata": {
    "collapsed": false
   },
   "outputs": [],
   "source": [
    "#r2_score(y_test, y_pred, multioutput='raw_values')"
   ]
  },
  {
   "cell_type": "markdown",
   "metadata": {},
   "source": [
    "Implement LASSO regression model"
   ]
  },
  {
   "cell_type": "code",
   "execution_count": 536,
   "metadata": {
    "collapsed": false
   },
   "outputs": [
    {
     "data": {
      "text/plain": [
       "32.961972255796354"
      ]
     },
     "execution_count": 536,
     "metadata": {},
     "output_type": "execute_result"
    }
   ],
   "source": [
    "from sklearn import linear_model\n",
    "clf = linear_model.Lasso(alpha = 0.09765)\n",
    "clf.fit(X_train, y_train)\n",
    "\n",
    "y_pred = clf.predict(X_test)\n",
    "zip (y_test, y_pred)\n",
    "\n",
    "mean_squared_error(y_test, y_pred)\n"
   ]
  },
  {
   "cell_type": "code",
   "execution_count": 537,
   "metadata": {
    "collapsed": false
   },
   "outputs": [],
   "source": [
    "#print(clf.coef_)"
   ]
  },
  {
   "cell_type": "code",
   "execution_count": 538,
   "metadata": {
    "collapsed": false
   },
   "outputs": [],
   "source": [
    "#print(clf.intercept_)"
   ]
  },
  {
   "cell_type": "code",
   "execution_count": 539,
   "metadata": {
    "collapsed": false
   },
   "outputs": [
    {
     "data": {
      "text/plain": [
       "0.60728061278921786"
      ]
     },
     "execution_count": 539,
     "metadata": {},
     "output_type": "execute_result"
    }
   ],
   "source": [
    "r2_score(y_test, y_pred)"
   ]
  },
  {
   "cell_type": "markdown",
   "metadata": {},
   "source": [
    "Implement Ridge Regression"
   ]
  },
  {
   "cell_type": "code",
   "execution_count": 540,
   "metadata": {
    "collapsed": false
   },
   "outputs": [
    {
     "data": {
      "text/plain": [
       "31.080946154741319"
      ]
     },
     "execution_count": 540,
     "metadata": {},
     "output_type": "execute_result"
    }
   ],
   "source": [
    "from sklearn.linear_model import Ridge\n",
    "import numpy as np\n",
    "clf = Ridge(alpha=.9765)\n",
    "clf.fit(X_train, y_train)\n",
    "\n",
    "y_pred = clf.predict(X_test)\n",
    "zip (y_test, y_pred)\n",
    "\n",
    "mean_squared_error(y_test, y_pred)"
   ]
  },
  {
   "cell_type": "code",
   "execution_count": 541,
   "metadata": {
    "collapsed": false
   },
   "outputs": [],
   "source": [
    "#print(clf.coef_)"
   ]
  },
  {
   "cell_type": "code",
   "execution_count": 542,
   "metadata": {
    "collapsed": false
   },
   "outputs": [],
   "source": [
    "#print(clf.intercept_)"
   ]
  },
  {
   "cell_type": "code",
   "execution_count": 543,
   "metadata": {
    "collapsed": false
   },
   "outputs": [
    {
     "data": {
      "text/plain": [
       "0.62969175408868661"
      ]
     },
     "execution_count": 543,
     "metadata": {},
     "output_type": "execute_result"
    }
   ],
   "source": [
    "r2_score(y_test, y_pred)"
   ]
  }
 ],
 "metadata": {
  "anaconda-cloud": {},
  "kernelspec": {
   "display_name": "Python [Root]",
   "language": "python",
   "name": "Python [Root]"
  },
  "language_info": {
   "codemirror_mode": {
    "name": "ipython",
    "version": 2
   },
   "file_extension": ".py",
   "mimetype": "text/x-python",
   "name": "python",
   "nbconvert_exporter": "python",
   "pygments_lexer": "ipython2",
   "version": "2.7.12"
  }
 },
 "nbformat": 4,
 "nbformat_minor": 0
}
