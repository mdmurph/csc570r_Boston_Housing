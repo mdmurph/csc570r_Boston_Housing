{
 "cells": [
  {
   "cell_type": "markdown",
   "metadata": {},
   "source": [
    "## Boston Housing Assignment\n",
    "\n",
    "In this assignment you'll be using linear regression to estimate the cost of house in boston, using a well known dataset.\n",
    "\n",
    "Goals:\n",
    "+  Measure the performance of the model I created using $R^{2}$ and MSE\n",
    "> Learn how to use sklearn.metrics.r2_score and sklearn.metrics.mean_squared_error\n",
    "+  Implement a new model using L2 regularization\n",
    "> Use sklearn.linear_model.Ridge or sklearn.linear_model.Lasso \n",
    "+  Get the best model you can by optimizing the regularization parameter.   "
   ]
  },
  {
   "cell_type": "code",
   "execution_count": 46,
   "metadata": {
    "collapsed": false
   },
   "outputs": [],
   "source": [
    "from sklearn import datasets\n",
    "import pandas as pd\n",
    "from sklearn.preprocessing import StandardScaler\n",
    "from sklearn.cross_validation import train_test_split\n",
    "from sklearn.metrics import mean_squared_error\n",
    "from sklearn.metrics import r2_score\n",
    "from sklearn.linear_model import LinearRegression"
   ]
  },
  {
   "cell_type": "code",
   "execution_count": 47,
   "metadata": {
    "collapsed": false
   },
   "outputs": [
    {
     "name": "stdout",
     "output_type": "stream",
     "text": [
      "Boston House Prices dataset\n",
      "\n",
      "Notes\n",
      "------\n",
      "Data Set Characteristics:  \n",
      "\n",
      "    :Number of Instances: 506 \n",
      "\n",
      "    :Number of Attributes: 13 numeric/categorical predictive\n",
      "    \n",
      "    :Median Value (attribute 14) is usually the target\n",
      "\n",
      "    :Attribute Information (in order):\n",
      "        - CRIM     per capita crime rate by town\n",
      "        - ZN       proportion of residential land zoned for lots over 25,000 sq.ft.\n",
      "        - INDUS    proportion of non-retail business acres per town\n",
      "        - CHAS     Charles River dummy variable (= 1 if tract bounds river; 0 otherwise)\n",
      "        - NOX      nitric oxides concentration (parts per 10 million)\n",
      "        - RM       average number of rooms per dwelling\n",
      "        - AGE      proportion of owner-occupied units built prior to 1940\n",
      "        - DIS      weighted distances to five Boston employment centres\n",
      "        - RAD      index of accessibility to radial highways\n",
      "        - TAX      full-value property-tax rate per $10,000\n",
      "        - PTRATIO  pupil-teacher ratio by town\n",
      "        - B        1000(Bk - 0.63)^2 where Bk is the proportion of blacks by town\n",
      "        - LSTAT    % lower status of the population\n",
      "        - MEDV     Median value of owner-occupied homes in $1000's\n",
      "\n",
      "    :Missing Attribute Values: None\n",
      "\n",
      "    :Creator: Harrison, D. and Rubinfeld, D.L.\n",
      "\n",
      "This is a copy of UCI ML housing dataset.\n",
      "http://archive.ics.uci.edu/ml/datasets/Housing\n",
      "\n",
      "\n",
      "This dataset was taken from the StatLib library which is maintained at Carnegie Mellon University.\n",
      "\n",
      "The Boston house-price data of Harrison, D. and Rubinfeld, D.L. 'Hedonic\n",
      "prices and the demand for clean air', J. Environ. Economics & Management,\n",
      "vol.5, 81-102, 1978.   Used in Belsley, Kuh & Welsch, 'Regression diagnostics\n",
      "...', Wiley, 1980.   N.B. Various transformations are used in the table on\n",
      "pages 244-261 of the latter.\n",
      "\n",
      "The Boston house-price data has been used in many machine learning papers that address regression\n",
      "problems.   \n",
      "     \n",
      "**References**\n",
      "\n",
      "   - Belsley, Kuh & Welsch, 'Regression diagnostics: Identifying Influential Data and Sources of Collinearity', Wiley, 1980. 244-261.\n",
      "   - Quinlan,R. (1993). Combining Instance-Based and Model-Based Learning. In Proceedings on the Tenth International Conference of Machine Learning, 236-243, University of Massachusetts, Amherst. Morgan Kaufmann.\n",
      "   - many more! (see http://archive.ics.uci.edu/ml/datasets/Housing)\n",
      "\n"
     ]
    }
   ],
   "source": [
    "bean = datasets.load_boston()\n",
    "print bean.DESCR"
   ]
  },
  {
   "cell_type": "code",
   "execution_count": 48,
   "metadata": {
    "collapsed": false
   },
   "outputs": [],
   "source": [
    "def load_boston():\n",
    "    scaler = StandardScaler()\n",
    "    boston = datasets.load_boston()\n",
    "    X=boston.data\n",
    "    y=boston.target\n",
    "    X = scaler.fit_transform(X)\n",
    "    return train_test_split(X,y)\n",
    "    "
   ]
  },
  {
   "cell_type": "code",
   "execution_count": 49,
   "metadata": {
    "collapsed": false
   },
   "outputs": [],
   "source": [
    "X_train, X_test, y_train, y_test = load_boston()"
   ]
  },
  {
   "cell_type": "code",
   "execution_count": 50,
   "metadata": {
    "collapsed": false
   },
   "outputs": [
    {
     "data": {
      "text/plain": [
       "(379L, 13L)"
      ]
     },
     "execution_count": 50,
     "metadata": {},
     "output_type": "execute_result"
    }
   ],
   "source": [
    "X_train.shape"
   ]
  },
  {
   "cell_type": "markdown",
   "metadata": {},
   "source": [
    "### Fitting a Linear Regression\n",
    "\n",
    "It's as easy as instantiating a new regression object (line 1) and giving your regression object your training data\n",
    "(line 2) by calling .fit(independent variables, dependent variable)\n",
    "\n"
   ]
  },
  {
   "cell_type": "code",
   "execution_count": 51,
   "metadata": {
    "collapsed": false
   },
   "outputs": [
    {
     "data": {
      "text/plain": [
       "LinearRegression(copy_X=True, fit_intercept=True, n_jobs=1, normalize=False)"
      ]
     },
     "execution_count": 51,
     "metadata": {},
     "output_type": "execute_result"
    }
   ],
   "source": [
    "\n",
    "clf = LinearRegression()\n",
    "clf.fit(X_train, y_train)"
   ]
  },
  {
   "cell_type": "markdown",
   "metadata": {},
   "source": [
    "### Making a Prediction\n",
    "X_test is our holdout set of data.  We know the answer (y_test) but the computer does not.   \n",
    "\n",
    "Using the command below, I create a tuple for each observation, where I'm combining the real value (y_test) with\n",
    "the value our regressor predicts (clf.predict(X_test))\n",
    "\n",
    "Use a similiar format to get your r2 and mse metrics working.  Using the [scikit learn api](http://scikit-learn.org/stable/modules/model_evaluation.html) if you need help!"
   ]
  },
  {
   "cell_type": "code",
   "execution_count": 52,
   "metadata": {
    "collapsed": false
   },
   "outputs": [
    {
     "data": {
      "text/plain": [
       "[(19.800000000000001, 22.127308662119905),\n",
       " (19.800000000000001, 18.315596018847444),\n",
       " (33.399999999999999, 35.526556017089504),\n",
       " (20.100000000000001, 23.765215533787508),\n",
       " (25.0, 25.001080894404641),\n",
       " (23.899999999999999, 25.040404745628695),\n",
       " (30.100000000000001, 34.55585340441597),\n",
       " (50.0, 43.614049368765471),\n",
       " (33.299999999999997, 36.741925836115009),\n",
       " (19.600000000000001, 19.455162424119603),\n",
       " (14.1, 16.854828186425614),\n",
       " (22.800000000000001, 28.457407844982939),\n",
       " (22.199999999999999, 19.386645430569583),\n",
       " (25.0, 28.477367635689447),\n",
       " (31.600000000000001, 32.696540686253172),\n",
       " (17.800000000000001, 17.766461369964532),\n",
       " (19.300000000000001, 20.302856348183646),\n",
       " (22.5, 18.06973211701251),\n",
       " (27.5, 11.10691497722037),\n",
       " (7.2000000000000002, 7.735572548734801),\n",
       " (16.600000000000001, 15.216415113126537),\n",
       " (14.0, 14.218444470358456),\n",
       " (31.600000000000001, 32.625013698805155),\n",
       " (14.800000000000001, 14.934038476909709),\n",
       " (13.1, 14.188130233835622),\n",
       " (13.300000000000001, 14.04659295128319),\n",
       " (22.699999999999999, 24.769900843988797),\n",
       " (36.100000000000001, 33.197914619434087),\n",
       " (18.899999999999999, 21.575239887371769),\n",
       " (17.199999999999999, 18.096450177858518),\n",
       " (21.199999999999999, 21.07921818713459),\n",
       " (28.699999999999999, 31.264979966438482),\n",
       " (23.100000000000001, 16.837013892599117),\n",
       " (19.300000000000001, 20.725618804942521),\n",
       " (22.0, 29.190909284283464),\n",
       " (23.300000000000001, 21.282269308420958),\n",
       " (16.5, 22.720952407284638),\n",
       " (22.0, 26.053111080332904),\n",
       " (24.399999999999999, 24.238519282536043),\n",
       " (15.199999999999999, 19.051534922668736),\n",
       " (32.899999999999999, 30.988008373569354),\n",
       " (7.4000000000000004, 5.3454557710059056),\n",
       " (13.4, 14.067701973103574),\n",
       " (20.199999999999999, 15.855130802936198),\n",
       " (22.899999999999999, 28.978450691564131),\n",
       " (7.2000000000000002, 10.874880720234238),\n",
       " (8.8000000000000007, 8.0106788023392284),\n",
       " (13.800000000000001, 19.450107568802913),\n",
       " (25.199999999999999, 27.033957921082411),\n",
       " (20.0, 22.043201698627982),\n",
       " (13.800000000000001, 12.714515707777405),\n",
       " (19.199999999999999, 23.56483033258386),\n",
       " (19.199999999999999, 20.169050153410691),\n",
       " (11.699999999999999, 15.910317189153531),\n",
       " (10.199999999999999, 5.8250621918781142),\n",
       " (14.1, 19.735500342546718),\n",
       " (18.899999999999999, 19.153226310067971),\n",
       " (22.600000000000001, 26.172273128240732),\n",
       " (19.100000000000001, 16.912345638199398),\n",
       " (23.100000000000001, 22.651981382953359),\n",
       " (11.699999999999999, 14.845076847905499),\n",
       " (28.399999999999999, 30.37479237347614),\n",
       " (17.699999999999999, 19.345898643258153),\n",
       " (14.300000000000001, 13.978196556189788),\n",
       " (24.100000000000001, 29.160173598600792),\n",
       " (34.700000000000003, 31.082036146110365),\n",
       " (19.5, 17.251762821254125),\n",
       " (35.200000000000003, 36.045274497599976),\n",
       " (50.0, 41.832501654650365),\n",
       " (17.199999999999999, 15.214853427365842),\n",
       " (20.399999999999999, 20.556865592991333),\n",
       " (14.300000000000001, 17.021294655391365),\n",
       " (30.100000000000001, 24.9120204402656),\n",
       " (22.899999999999999, 20.568187239533458),\n",
       " (19.899999999999999, 17.876311484396155),\n",
       " (22.600000000000001, 17.921668433487685),\n",
       " (24.0, 25.055087325975499),\n",
       " (14.6, 18.936725614289763),\n",
       " (22.600000000000001, 27.267624098602248),\n",
       " (10.199999999999999, 16.743506926355149),\n",
       " (8.0999999999999996, 4.7983796866066264),\n",
       " (20.899999999999999, 20.887293101014968),\n",
       " (13.800000000000001, 0.22207016501049992),\n",
       " (18.5, 19.070829899202089),\n",
       " (32.700000000000003, 31.019776073399093),\n",
       " (50.0, 21.594610994741394),\n",
       " (22.699999999999999, 20.696398013005087),\n",
       " (23.300000000000001, 26.369116219233021),\n",
       " (15.6, 15.48767546700012),\n",
       " (16.199999999999999, 15.059144223548202),\n",
       " (18.699999999999999, 20.994334739431082),\n",
       " (38.700000000000003, 36.920133689960352),\n",
       " (21.199999999999999, 23.499629995757463),\n",
       " (21.399999999999999, 21.45209659273409),\n",
       " (33.0, 23.920197488299237),\n",
       " (20.600000000000001, 27.002099571662129),\n",
       " (10.4, 16.339791820821517),\n",
       " (13.5, 14.253048644392504),\n",
       " (16.600000000000001, 18.536276839664488),\n",
       " (17.800000000000001, 9.3869742143898822),\n",
       " (13.4, 13.907351728819801),\n",
       " (21.399999999999999, 22.400501982350974),\n",
       " (50.0, 33.654384515120725),\n",
       " (29.600000000000001, 24.75536390544849),\n",
       " (25.0, 27.750671672913349),\n",
       " (20.800000000000001, 16.222068433243479),\n",
       " (20.399999999999999, 20.783420692800256),\n",
       " (19.899999999999999, 19.771034072316219),\n",
       " (30.800000000000001, 30.9538349647292),\n",
       " (23.899999999999999, 27.581065876435662),\n",
       " (24.399999999999999, 28.470475050348071),\n",
       " (19.699999999999999, 21.400840372530599),\n",
       " (10.5, 12.275338700162685),\n",
       " (22.600000000000001, 22.695864468281616),\n",
       " (22.600000000000001, 24.840302536762657),\n",
       " (24.100000000000001, 25.989311653617897),\n",
       " (26.600000000000001, 28.497871697248502),\n",
       " (31.5, 31.059105917401844),\n",
       " (28.399999999999999, 29.044151767247179),\n",
       " (22.899999999999999, 22.987734689735838),\n",
       " (16.800000000000001, 18.722504062594879),\n",
       " (18.300000000000001, 18.793794797046974),\n",
       " (29.0, 31.63196871500271),\n",
       " (37.600000000000001, 38.176468944720298),\n",
       " (22.199999999999999, 24.357122547880934),\n",
       " (50.0, 36.567278216943684),\n",
       " (18.5, 25.217057569857182)]"
      ]
     },
     "execution_count": 52,
     "metadata": {},
     "output_type": "execute_result"
    }
   ],
   "source": [
    "zip (y_test, clf.predict(X_test))"
   ]
  },
  {
   "cell_type": "code",
   "execution_count": 53,
   "metadata": {
    "collapsed": false
   },
   "outputs": [
    {
     "data": {
      "text/plain": [
       "23.896138225508921"
      ]
     },
     "execution_count": 53,
     "metadata": {},
     "output_type": "execute_result"
    }
   ],
   "source": [
    "from sklearn.metrics import mean_squared_error\n",
    "mean_squared_error(y_test, clf.predict(X_test))"
   ]
  },
  {
   "cell_type": "code",
   "execution_count": 54,
   "metadata": {
    "collapsed": false
   },
   "outputs": [
    {
     "data": {
      "text/plain": [
       "0.68725114342383553"
      ]
     },
     "execution_count": 54,
     "metadata": {},
     "output_type": "execute_result"
    }
   ],
   "source": [
    "from sklearn.metrics import r2_score\n",
    "r2_score(y_test, clf.predict(X_test))"
   ]
  },
  {
   "cell_type": "code",
   "execution_count": 55,
   "metadata": {
    "collapsed": false
   },
   "outputs": [
    {
     "data": {
      "text/plain": [
       "0.68725114342383553"
      ]
     },
     "execution_count": 55,
     "metadata": {},
     "output_type": "execute_result"
    }
   ],
   "source": [
    "r2_score(y_test, clf.predict(X_test), multioutput='variance_weighted')\n"
   ]
  },
  {
   "cell_type": "code",
   "execution_count": 56,
   "metadata": {
    "collapsed": false
   },
   "outputs": [
    {
     "data": {
      "text/plain": [
       "0.68725114342383553"
      ]
     },
     "execution_count": 56,
     "metadata": {},
     "output_type": "execute_result"
    }
   ],
   "source": [
    "r2_score(y_test, clf.predict(X_test), multioutput='uniform_average')\n"
   ]
  },
  {
   "cell_type": "code",
   "execution_count": 57,
   "metadata": {
    "collapsed": false
   },
   "outputs": [
    {
     "data": {
      "text/plain": [
       "array([ 0.68725114])"
      ]
     },
     "execution_count": 57,
     "metadata": {},
     "output_type": "execute_result"
    }
   ],
   "source": [
    "r2_score(y_test, clf.predict(X_test), multioutput='raw_values')"
   ]
  }
 ],
 "metadata": {
  "anaconda-cloud": {},
  "kernelspec": {
   "display_name": "Python [Root]",
   "language": "python",
   "name": "Python [Root]"
  },
  "language_info": {
   "codemirror_mode": {
    "name": "ipython",
    "version": 2
   },
   "file_extension": ".py",
   "mimetype": "text/x-python",
   "name": "python",
   "nbconvert_exporter": "python",
   "pygments_lexer": "ipython2",
   "version": "2.7.12"
  }
 },
 "nbformat": 4,
 "nbformat_minor": 0
}
